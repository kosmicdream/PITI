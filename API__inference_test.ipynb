{
  "nbformat": 4,
  "nbformat_minor": 0,
  "metadata": {
    "colab": {
      "provenance": [],
      "authorship_tag": "ABX9TyOuA3TbItPG2TlpR6r88n47"
    },
    "kernelspec": {
      "name": "python3",
      "display_name": "Python 3"
    },
    "language_info": {
      "name": "python"
    }
  },
  "cells": [
    {
      "cell_type": "code",
      "execution_count": 195,
      "metadata": {
        "id": "6F8mo9xuCCfK"
      },
      "outputs": [],
      "source": [
        "import requests\n",
        "import json\n",
        "import urllib.request\n",
        "from PIL import Image\n",
        "import time\n",
        "import os\n",
        "import glob\n",
        "import random\n",
        "import shutil\n",
        "\n",
        "headers = {\n",
        "  'Content-Type': 'application/json',\n",
        "  'api_key': 'dc6002bd-c916-40ed-acd1-fd507190b468'\n",
        "}\n",
        "\n",
        "\n",
        "permanent_json_paths = glob.glob('/content/permanent_jsons/*')\n",
        "\n",
        "for permanent_json in permanent_json_paths:\n",
        "  permanent_json_name = os.path.basename(permanent_json).split('.')[0]\n",
        "  shutil.copyfile(permanent_json, f'/content/inference_jsons/{permanent_json_name}.json')"
      ]
    },
    {
      "cell_type": "code",
      "source": [
        "get_models_url = \"https://api.lightsketch.ai/v1/models?model_type=sd1.5&ownership=public\"\n",
        "get_sampler_url = \"https://api.lightsketch.ai/v1/samplers\"\n",
        "\n",
        "model_response = requests.request(\"GET\", get_models_url, headers=headers)\n",
        "sampler_response = requests.request(\"GET\", get_sampler_url, headers=headers)\n",
        "\n",
        "model_list = model_response.json()[\"items\"]\n",
        "sampler_list = sampler_response.json()\n",
        "\n",
        "model_ids = []\n",
        "for model in model_list:\n",
        "  model_ids += [model[\"id\"]]\n",
        "\n",
        "sampler_names = []\n",
        "for sampler in sampler_list:\n",
        "  sampler_names += [sampler[\"name\"]]"
      ],
      "metadata": {
        "id": "taM6_BDDN6ap"
      },
      "execution_count": 165,
      "outputs": []
    },
    {
      "cell_type": "code",
      "source": [
        "for model in model_ids:\n",
        "  sampler = random.choice(sampler_names)\n",
        "\n",
        "  test_json = json.dumps({\n",
        "    \"model_id\": model,\n",
        "    \"prompt\": \"a man\",\n",
        "    \"seed\": 8457691,\n",
        "    \"sampler_name\": sampler,\n",
        "    \"num_generations\": 1,\n",
        "    \"cfg_scale\": 7,\n",
        "    \"width\": 512,\n",
        "    \"height\": 512,\n",
        "    \"steps\": 20\n",
        "  })\n",
        "\n",
        "  with open(f\"/content/inference_jsons/{model}_{sampler}.json\", \"w\") as outfile:\n",
        "    outfile.write(test_json)\n"
      ],
      "metadata": {
        "id": "YThAsdBjRkc7"
      },
      "execution_count": 166,
      "outputs": []
    },
    {
      "cell_type": "code",
      "source": [
        "def Average(lst):\n",
        "    return sum(lst) / len(lst)\n",
        "\n",
        "json_paths = glob.glob('/content/inference_jsons/*')\n",
        "time_counter_list = []\n",
        "\n",
        "post_url = 'https://api.lightsketch.ai/v1/generation/text-to-image'\n",
        "\n",
        "for json_file_path in json_paths:\n",
        "  json_name = os.path.basename(json_file_path).split('.')[0]\n",
        "\n",
        "  parameters = json.load(open(json_file_path))\n",
        "  payload = json.dumps(parameters)\n",
        "\n",
        "  post_response = requests.request(\"POST\", post_url, headers=headers, data=payload)\n",
        "  try:\n",
        "    id = post_response.json()[\"id\"]\n",
        "  except:\n",
        "    print(f'\\n POST request for {json_name} failed')\n",
        "    print(post_response.text)\n",
        "    print('\\n')\n",
        "    continue\n",
        "\n",
        "  get_url = \"https://api.lightsketch.ai/v1/generation/text-to-image/\" + id\n",
        "  status = 'generating'\n",
        "  time_counter = 0\n",
        "\n",
        "  while status in ['generating','queued'] and time_counter < 60:\n",
        "    time.sleep(1)\n",
        "    get_response = requests.request(\"GET\", get_url, headers=headers)\n",
        "    status = get_response.json()[\"status\"]\n",
        "    time_counter += 1\n",
        "\n",
        "  if time_counter >= 60:\n",
        "    print(f'\\n generation for {json_name} took too long, skipping')\n",
        "    print(response.text)\n",
        "    print('\\n')\n",
        "    continue\n",
        "\n",
        "  samples = get_response.json()[\"sample_images\"]\n",
        "\n",
        "  if json_name.split('_')[0] != \"perma\":\n",
        "    time_counter_list += [time_counter]\n",
        "\n",
        "  print(f\"{json_name}: {status} in less than {time_counter}sec\")\n",
        "\n",
        "  urllib.request.urlretrieve(samples[0], \"sample.jpeg\")\n",
        "\n",
        "  img = Image.open(\"sample.jpeg\")\n",
        "  img.save(f\"/content/samples/{json_name}.jpg\")\n",
        "\n",
        "average_generation_time = Average(time_counter_list)\n",
        "print(f'average generation time: {average_generation_time}')\n"
      ],
      "metadata": {
        "colab": {
          "base_uri": "https://localhost:8080/"
        },
        "id": "eMC54-1QHkmc",
        "outputId": "9778b0fb-a1be-4dd8-e1dd-bd382044eab2"
      },
      "execution_count": null,
      "outputs": [
        {
          "output_type": "stream",
          "name": "stdout",
          "text": [
            "sd15L5lQDZWa_DPM++ 2M: success in less than 6sec\n",
            "perma_large_image\n",
            "perma_large_image: success in less than 16sec\n",
            "sd156FRJrxka_DPM++ 2S a: success in less than 4sec\n",
            "perma_cfg\n",
            "perma_cfg: success in less than 7sec\n",
            "permanent_jsons: success in less than 13sec\n",
            "\n",
            " POST request for sd15BRoNQOoa_DPM++ 3M SDE Karras failed\n",
            "{\"detail\":[{\"type\":\"literal_error\",\"loc\":[\"body\",\"sampler_name\"],\"msg\":\"Input should be 'Euler a', 'Euler', 'LMS', 'Heun', 'DPM2', 'DPM2 a', 'DPM++ 2S a', 'DPM++ 2M', 'DPM++ SDE', 'DPM++ 2M SDE', 'DPM fast', 'DPM adaptive', 'LMS Karras', 'DPM2 Karras', 'DPM2 a Karras', 'DPM++ 2S a Karras', 'DPM++ 2M Karras', 'DPM++ SDE Karras', 'DPM++ 2M SDE Karras', 'DDIM', 'PLMS' or 'UniPC'\",\"input\":\"DPM++ 3M SDE Karras\",\"ctx\":{\"expected\":\"'Euler a', 'Euler', 'LMS', 'Heun', 'DPM2', 'DPM2 a', 'DPM++ 2S a', 'DPM++ 2M', 'DPM++ SDE', 'DPM++ 2M SDE', 'DPM fast', 'DPM adaptive', 'LMS Karras', 'DPM2 Karras', 'DPM2 a Karras', 'DPM++ 2S a Karras', 'DPM++ 2M Karras', 'DPM++ SDE Karras', 'DPM++ 2M SDE Karras', 'DDIM', 'PLMS' or 'UniPC'\"},\"url\":\"https://errors.pydantic.dev/2.4/v/literal_error\"}]}\n",
            "\n",
            "\n",
            "\n",
            " POST request for sd15R1utigua_Restart failed\n",
            "{\"detail\":[{\"type\":\"literal_error\",\"loc\":[\"body\",\"sampler_name\"],\"msg\":\"Input should be 'Euler a', 'Euler', 'LMS', 'Heun', 'DPM2', 'DPM2 a', 'DPM++ 2S a', 'DPM++ 2M', 'DPM++ SDE', 'DPM++ 2M SDE', 'DPM fast', 'DPM adaptive', 'LMS Karras', 'DPM2 Karras', 'DPM2 a Karras', 'DPM++ 2S a Karras', 'DPM++ 2M Karras', 'DPM++ SDE Karras', 'DPM++ 2M SDE Karras', 'DDIM', 'PLMS' or 'UniPC'\",\"input\":\"Restart\",\"ctx\":{\"expected\":\"'Euler a', 'Euler', 'LMS', 'Heun', 'DPM2', 'DPM2 a', 'DPM++ 2S a', 'DPM++ 2M', 'DPM++ SDE', 'DPM++ 2M SDE', 'DPM fast', 'DPM adaptive', 'LMS Karras', 'DPM2 Karras', 'DPM2 a Karras', 'DPM++ 2S a Karras', 'DPM++ 2M Karras', 'DPM++ SDE Karras', 'DPM++ 2M SDE Karras', 'DDIM', 'PLMS' or 'UniPC'\"},\"url\":\"https://errors.pydantic.dev/2.4/v/literal_error\"}]}\n",
            "\n",
            "\n",
            "sd15UpGqwVMa_DPM++ SDE Karras: success in less than 9sec\n",
            "perma_steps\n",
            "perma_steps: success in less than 5sec\n",
            "sd15bLJxN9za_DPM++ 2M: success in less than 6sec\n",
            "\n",
            " POST request for sd15OLTwI8Ja_DPM++ 2M SDE Exponential failed\n",
            "{\"detail\":[{\"type\":\"literal_error\",\"loc\":[\"body\",\"sampler_name\"],\"msg\":\"Input should be 'Euler a', 'Euler', 'LMS', 'Heun', 'DPM2', 'DPM2 a', 'DPM++ 2S a', 'DPM++ 2M', 'DPM++ SDE', 'DPM++ 2M SDE', 'DPM fast', 'DPM adaptive', 'LMS Karras', 'DPM2 Karras', 'DPM2 a Karras', 'DPM++ 2S a Karras', 'DPM++ 2M Karras', 'DPM++ SDE Karras', 'DPM++ 2M SDE Karras', 'DDIM', 'PLMS' or 'UniPC'\",\"input\":\"DPM++ 2M SDE Exponential\",\"ctx\":{\"expected\":\"'Euler a', 'Euler', 'LMS', 'Heun', 'DPM2', 'DPM2 a', 'DPM++ 2S a', 'DPM++ 2M', 'DPM++ SDE', 'DPM++ 2M SDE', 'DPM fast', 'DPM adaptive', 'LMS Karras', 'DPM2 Karras', 'DPM2 a Karras', 'DPM++ 2S a Karras', 'DPM++ 2M Karras', 'DPM++ SDE Karras', 'DPM++ 2M SDE Karras', 'DDIM', 'PLMS' or 'UniPC'\"},\"url\":\"https://errors.pydantic.dev/2.4/v/literal_error\"}]}\n",
            "\n",
            "\n",
            "perma_batch\n",
            "perma_batch: success in less than 20sec\n",
            "sd15KGLJ6Vta_DPM2 a Karras: success in less than 8sec\n",
            "sd15qvpb7Mfa_DPM++ 2M SDE Karras: success in less than 9sec\n",
            "sd157ucuVmGa_DPM2 a Karras: success in less than 5sec\n"
          ]
        }
      ]
    },
    {
      "cell_type": "code",
      "source": [],
      "metadata": {
        "id": "V2_Mol_ahj3v"
      },
      "execution_count": null,
      "outputs": []
    }
  ]
}